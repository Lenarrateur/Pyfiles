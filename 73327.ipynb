{
 "cells": [
  {
   "cell_type": "code",
   "execution_count": 2,
   "id": "f328088e-b409-4bbe-a142-83c1bab4041b",
   "metadata": {},
   "outputs": [
    {
     "name": "stdout",
     "output_type": "stream",
     "text": [
      "[  0   1   2   3   4   5   6   7   8  -9 -10 -11 -12 -13 -14 -15  16  17\n",
      "  18  19  20]\n"
     ]
    }
   ],
   "source": [
    "#Exercice 1\n",
    "#Write a NumPy program to create a vector with values from 0 to 20 and change the sign of the numbers in the range from 9 to 15.\n",
    "\n",
    "import numpy as np\n",
    "vector = np.arange(21)\n",
    "vector[9:16] *= -1\n",
    "\n",
    "print(vector)"
   ]
  },
  {
   "cell_type": "code",
   "execution_count": 3,
   "id": "a515b872-5648-4b5f-a7f4-a091badbe1cc",
   "metadata": {},
   "outputs": [
    {
     "name": "stdout",
     "output_type": "stream",
     "text": [
      "[16 17 18 19 20 21 22 23 24 25 26 27 28 29 30 31 32 33 34 35 36 37 38 39\n",
      " 40 41 42 43 44 45 46 47 48 49 50 51 52 53 54]\n"
     ]
    }
   ],
   "source": [
    "#Exercice 2\n",
    "#Write a NumPy program to create a vector with values ranging from 15 to 55 and print all values except the first and last.\n",
    "\n",
    "import numpy as np\n",
    "vector = np.arange(15, 56)\n",
    "print(vector[1:-1])\n"
   ]
  },
  {
   "cell_type": "code",
   "execution_count": 4,
   "id": "8ef04ce8-012c-425b-95f4-2ba60955b645",
   "metadata": {},
   "outputs": [
    {
     "name": "stdout",
     "output_type": "stream",
     "text": [
      "Element at (0, 0): 1\n",
      "Element at (0, 1): 6\n",
      "Element at (0, 2): 7\n",
      "Element at (0, 3): 4\n",
      "Element at (1, 0): 5\n",
      "Element at (1, 1): 24\n",
      "Element at (1, 2): 7\n",
      "Element at (1, 3): 8\n",
      "Element at (2, 0): 9\n",
      "Element at (2, 1): 60\n",
      "Element at (2, 2): 9\n",
      "Element at (2, 3): 12\n"
     ]
    }
   ],
   "source": [
    "#Exercice 3\n",
    "#Write a NumPy program to create a 3X4 array and iterate over it.\n",
    "import numpy as np\n",
    "array_3x4 = np.array([[1, 6, 7, 4],\n",
    "                      [5, 24, 7, 8],\n",
    "                      [9, 60, 9, 12]])\n",
    "for row in range(array_3x4.shape[0]):\n",
    "    for col in range(array_3x4.shape[1]):\n",
    "        print(f\"Element at ({row}, {col}): {array_3x4[row, col]}\")"
   ]
  },
  {
   "cell_type": "code",
   "execution_count": 5,
   "id": "ebb4ad48-71c8-49f9-a5db-31548f5ebaaa",
   "metadata": {},
   "outputs": [
    {
     "name": "stdout",
     "output_type": "stream",
     "text": [
      "[ 5. 10. 15. 20. 25. 30. 35. 40. 45. 50.]\n"
     ]
    }
   ],
   "source": [
    "#Exercice 4\n",
    "#Write a NumPy program to create a vector of length 10 with values evenly distributed between 5 and 50.\n",
    "\n",
    "import numpy as np\n",
    "vector = np.linspace(5, 50, 10)\n",
    "print(vector)"
   ]
  },
  {
   "cell_type": "code",
   "execution_count": 7,
   "id": "5dcd7027-6b7c-4e8c-85ac-465f87f4bbee",
   "metadata": {},
   "outputs": [
    {
     "name": "stdout",
     "output_type": "stream",
     "text": [
      "[4 6 2 9 3]\n"
     ]
    }
   ],
   "source": [
    "#Exercice 5\n",
    "#Write a NumPy program to create a vector of length 5 filled with arbitrary integers from 0 to 10.\n",
    "\n",
    "import numpy as np\n",
    "vector = np.random.randint(0, 11, 5)\n",
    "print(vector)"
   ]
  },
  {
   "cell_type": "code",
   "execution_count": 8,
   "id": "419cf528-1db9-43a0-8fe7-8846476d678e",
   "metadata": {},
   "outputs": [
    {
     "name": "stdout",
     "output_type": "stream",
     "text": [
      "Vector 1: [1 2 3 4 5]\n",
      "Vector 2: [5 4 3 2 1]\n",
      "Element-wise multiplication result: [5 8 9 8 5]\n"
     ]
    }
   ],
   "source": [
    "#Exercice 6\n",
    "#Write a NumPy program to multiply the values of two given vectors.\n",
    "\n",
    "import numpy as np\n",
    "vector1 = np.array([1, 2, 3, 4, 5])\n",
    "vector2 = np.array([5, 4, 3, 2, 1])\n",
    "result = vector1 * vector2\n",
    "print(\"Vector 1:\", vector1)\n",
    "print(\"Vector 2:\", vector2)\n",
    "print(\"Element-wise multiplication result:\", result)"
   ]
  },
  {
   "cell_type": "code",
   "execution_count": 9,
   "id": "1f6df1ab-29d0-4538-8f79-9acb07bb512b",
   "metadata": {},
   "outputs": [
    {
     "name": "stdout",
     "output_type": "stream",
     "text": [
      "[[10 11 12 13]\n",
      " [14 15 16 17]\n",
      " [18 19 20 21]]\n"
     ]
    }
   ],
   "source": [
    "#Exercice 7\n",
    "#Write a NumPy program to create a 3x4 matrix filled with values from 10 to 21.\n",
    "\n",
    "import numpy as np\n",
    "matrix = np.arange(10, 22).reshape(3, 4)\n",
    "print(matrix)"
   ]
  },
  {
   "cell_type": "code",
   "execution_count": 10,
   "id": "f49f696f-0f04-4b3d-b16e-59e5e0a19e4c",
   "metadata": {},
   "outputs": [
    {
     "name": "stdout",
     "output_type": "stream",
     "text": [
      "Number of rows: 3\n",
      "Number of columns: 3\n"
     ]
    }
   ],
   "source": [
    "#Exercice 8\n",
    "#Write a NumPy program to find the number of rows and columns in a given matrix.\n",
    "\n",
    "import numpy as np\n",
    "matrix = np.array([[1, 2, 3],\n",
    "                  [4, 5, 6],\n",
    "                  [7, 8, 9]])\n",
    "num_rows, num_columns = matrix.shape\n",
    "print(f\"Number of rows: {num_rows}\")\n",
    "print(f\"Number of columns: {num_columns}\")"
   ]
  },
  {
   "cell_type": "code",
   "execution_count": 11,
   "id": "92569e9e-dba6-43f9-8568-06fd7f763565",
   "metadata": {},
   "outputs": [
    {
     "name": "stdout",
     "output_type": "stream",
     "text": [
      "[[0 1 0 1]\n",
      " [1 0 1 0]\n",
      " [0 1 0 1]\n",
      " [1 0 1 0]]\n"
     ]
    }
   ],
   "source": [
    "#Exercice 9\n",
    "#Write a NumPy program to create a 4x4 matrix in which 0 and 1 are staggered, with zeros on the main diagonal.\n",
    "\n",
    "import numpy as np\n",
    "matrix = np.zeros((4, 4), dtype=int)\n",
    "matrix[1::2, ::2] = 1\n",
    "matrix[::2, 1::2] = 1\n",
    "print(matrix)"
   ]
  },
  {
   "cell_type": "code",
   "execution_count": 12,
   "id": "84a19ba1-22e1-4ae1-a2ac-11a75179340c",
   "metadata": {},
   "outputs": [
    {
     "name": "stdout",
     "output_type": "stream",
     "text": [
      "Array1: [ 0 10 20 40 60]\n",
      "Array2: [10 30 40]\n",
      "Common values between two arrays:\n",
      "[10 40]\n"
     ]
    }
   ],
   "source": [
    "#Exercice 10\n",
    "#Write a NumPy program to find common values between two arrays.\n",
    "import numpy as np\n",
    "array1 = np.array([0, 10, 20, 40, 60])\n",
    "array2 = np.array([10, 30, 40])\n",
    "common_values = np.intersect1d(array1, array2)\n",
    "print(\"Array1:\", array1)\n",
    "print(\"Array2:\", array2)\n",
    "print(\"Common values between two arrays:\")\n",
    "print(common_values)"
   ]
  },
  {
   "cell_type": "code",
   "execution_count": 13,
   "id": "47ecc15a-d8bf-4174-9044-d8f659ea5323",
   "metadata": {},
   "outputs": [
    {
     "name": "stdout",
     "output_type": "stream",
     "text": [
      "Original array:\n",
      "[10 10 20 20 30 30]\n",
      "Unique elements of the above array:\n",
      "[10 20 30]\n",
      "Original array:\n",
      "[[1 1]\n",
      " [2 3]]\n",
      "Unique elements of the above array:\n",
      "[1 2 3]\n"
     ]
    }
   ],
   "source": [
    "#Exercice 11\n",
    "#Write a NumPy program to get the unique elements of an array\n",
    "\n",
    "import numpy as np\n",
    "array1 = np.array([10, 10, 20, 20, 30, 30])\n",
    "array2 = np.array([[1, 1], [2, 3]])\n",
    "unique_array1 = np.unique(array1)\n",
    "unique_array2 = np.unique(array2)\n",
    "\n",
    "print(\"Original array:\")\n",
    "print(array1)\n",
    "print(\"Unique elements of the above array:\")\n",
    "print(unique_array1)\n",
    "print(\"Original array:\")\n",
    "print(array2)\n",
    "print(\"Unique elements of the above array:\")\n",
    "print(unique_array2)\n"
   ]
  },
  {
   "cell_type": "code",
   "execution_count": 14,
   "id": "b9d3954a-0f5c-4431-8816-33257b5add40",
   "metadata": {},
   "outputs": [
    {
     "name": "stdout",
     "output_type": "stream",
     "text": [
      "Vector 1: [1 2 3]\n",
      "Vector 2: [4 5 6]\n",
      "Cross product: [-3  6 -3]\n"
     ]
    }
   ],
   "source": [
    "#Exercice 12\n",
    "#Write a NumPy program to compute the cross product of two given vectors.\n",
    "\n",
    "import numpy as np\n",
    "vector1 = np.array([1, 2, 3])\n",
    "vector2 = np.array([4, 5, 6])\n",
    "cross_product = np.cross(vector1, vector2)\n",
    "\n",
    "print(\"Vector 1:\", vector1)\n",
    "print(\"Vector 2:\", vector2)\n",
    "print(\"Cross product:\", cross_product)"
   ]
  },
  {
   "cell_type": "code",
   "execution_count": 16,
   "id": "4f8b4b78-a0fe-4fb0-b63a-cf8638ea31f8",
   "metadata": {},
   "outputs": [
    {
     "name": "stdout",
     "output_type": "stream",
     "text": [
      "[0.88216647 0.66734298 0.79271307 0.7690145  0.50902409 1.01257034\n",
      " 0.73592848 0.82035337 0.21879353 0.83741156]\n",
      "[1.11801838 0.86816649 1.02460611 0.53528706 0.69727559 1.18877666\n",
      " 0.07789942 1.10896684 1.42940384 1.30520361]\n"
     ]
    }
   ],
   "source": [
    "#Exercice 13\n",
    "#Write a NumPy program to convert cartesian coordinates to polar coordinates of a random 10x2 matrix representing cartesian coordinates.\n",
    "import numpy as np\n",
    "cartesian_coords = np.random.rand(10, 2)  \n",
    "x = cartesian_coords[:, 0]\n",
    "y = cartesian_coords[:, 1]\n",
    "r = np.hypot(x, y)\n",
    "theta = np.arctan2(y, x)\n",
    "print(r)\n",
    "print(theta)"
   ]
  },
  {
   "cell_type": "code",
   "execution_count": 22,
   "id": "c0e95a5c-2c06-4977-9780-06d622aa9e30",
   "metadata": {},
   "outputs": [
    {
     "name": "stdout",
     "output_type": "stream",
     "text": [
      "Original array:\n",
      "[ 0  1  2  3  4  5  6  7  8  9 10 11 12 13 14 15 16 17 18 19 20 21 22 23\n",
      " 24 25 26 27 28 29 30 31 32 33 34 35 36 37 38 39 40 41 42 43 44 45 46 47\n",
      " 48 49 50 51 52 53 54 55 56 57 58 59 60 61 62 63 64 65 66 67 68 69 70 71\n",
      " 72 73 74 75 76 77 78 79 80 81 82 83 84 85 86 87 88 89 90 91 92 93 94 95\n",
      " 96 97 98 99]\n",
      "Value to compare:\n",
      "34.99062268928913\n",
      "Closest value:\n",
      "35\n"
     ]
    }
   ],
   "source": [
    "#Exercice 14\n",
    "#Write a NumPy program to find the closest value (to a given scalar) in an array.\n",
    "\n",
    "import numpy as np\n",
    "original_array = np.arange(100)\n",
    "value_to_compare = 34.99062268928913\n",
    "index_of_closest = np.abs(original_array - value_to_compare).argmin()\n",
    "closest_value = original_array[index_of_closest]\n",
    "print(\"Original array:\")\n",
    "print(original_array)\n",
    "print(\"Value to compare:\")\n",
    "print(value_to_compare)\n",
    "print(\"Closest value:\")\n",
    "print(closest_value)"
   ]
  }
 ],
 "metadata": {
  "kernelspec": {
   "display_name": "Python 3 (ipykernel)",
   "language": "python",
   "name": "python3"
  },
  "language_info": {
   "codemirror_mode": {
    "name": "ipython",
    "version": 3
   },
   "file_extension": ".py",
   "mimetype": "text/x-python",
   "name": "python",
   "nbconvert_exporter": "python",
   "pygments_lexer": "ipython3",
   "version": "3.11.4"
  }
 },
 "nbformat": 4,
 "nbformat_minor": 5
}
